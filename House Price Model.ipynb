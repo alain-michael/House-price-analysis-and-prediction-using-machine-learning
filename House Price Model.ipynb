{
  "nbformat": 4,
  "nbformat_minor": 0,
  "metadata": {
    "colab": {
      "provenance": [],
      "authorship_tag": "ABX9TyOYyla8G4syUSKy7A8drJ/E",
      "include_colab_link": true
    },
    "kernelspec": {
      "name": "python3",
      "display_name": "Python 3"
    },
    "language_info": {
      "name": "python"
    }
  },
  "cells": [
    {
      "cell_type": "markdown",
      "metadata": {
        "id": "view-in-github",
        "colab_type": "text"
      },
      "source": [
        "<a href=\"https://colab.research.google.com/github/alain-michael/Football-data-scraper-and-prediction/blob/main/House%20Price%20Model.ipynb\" target=\"_parent\"><img src=\"https://colab.research.google.com/assets/colab-badge.svg\" alt=\"Open In Colab\"/></a>"
      ]
    },
    {
      "cell_type": "markdown",
      "source": [
        "#**Housing price prediction model**"
      ],
      "metadata": {
        "id": "d2WpzEE6zIqR"
      }
    },
    {
      "cell_type": "markdown",
      "source": [
        "**Importing dependencies**"
      ],
      "metadata": {
        "id": "50LZ9M2gOYtG"
      }
    },
    {
      "cell_type": "code",
      "source": [
        "import pandas as pd\n",
        "import numpy as np\n",
        "import matplotlib.pyplot as plt\n",
        "import tensorflow as tf\n",
        "from tensorflow.keras.models import Sequential\n",
        "from sklearn.preprocessing import StandardScaler\n",
        "from tensorflow.keras.layers import Dense, Dropout, Conv2D, MaxPooling2D"
      ],
      "metadata": {
        "id": "Cnb7cWBBe-jm"
      },
      "execution_count": 1,
      "outputs": []
    },
    {
      "cell_type": "markdown",
      "source": [
        "**Read data into a dataframe**"
      ],
      "metadata": {
        "id": "BNn6ail5i-FM"
      }
    },
    {
      "cell_type": "code",
      "source": [
        "df = pd.read_csv('csvdata.csv')"
      ],
      "metadata": {
        "id": "D7HhaD_-jNw9"
      },
      "execution_count": 3,
      "outputs": []
    },
    {
      "cell_type": "markdown",
      "source": [
        "**Some statistics about the dataset**"
      ],
      "metadata": {
        "id": "Gv_Uo4a3VKFx"
      }
    },
    {
      "cell_type": "code",
      "source": [
        "print(df.describe())\n",
        "df.nunique()"
      ],
      "metadata": {
        "colab": {
          "base_uri": "https://localhost:8080/"
        },
        "id": "LOZ_7RN5jWjP",
        "outputId": "453841f5-54fc-43b6-bdb2-c2c1d07879fe"
      },
      "execution_count": 5,
      "outputs": [
        {
          "output_type": "stream",
          "name": "stdout",
          "text": [
            "         Unnamed: 0         Price          Area  No. of Bedrooms\n",
            "count  29135.000000  2.913500e+04  29135.000000     29135.000000\n",
            "mean    3058.808238  1.195267e+07   1301.816475         2.421074\n",
            "std     1923.174050  2.387647e+07    767.862339         0.821016\n",
            "min        0.000000  2.000000e+06    200.000000         1.000000\n",
            "25%     1431.000000  4.179999e+06    870.000000         2.000000\n",
            "50%     2891.000000  6.884999e+06   1137.000000         2.000000\n",
            "75%     4539.500000  1.230000e+07   1504.000000         3.000000\n",
            "max     7718.000000  8.546000e+08  16000.000000         9.000000\n"
          ]
        },
        {
          "output_type": "execute_result",
          "data": {
            "text/plain": [
              "Unnamed: 0         7657\n",
              "City                  6\n",
              "Price              4924\n",
              "Area               2452\n",
              "Location           1776\n",
              "No. of Bedrooms       9\n",
              "dtype: int64"
            ]
          },
          "metadata": {},
          "execution_count": 5
        }
      ]
    },
    {
      "cell_type": "code",
      "source": [
        "print(df['City'].value_counts())"
      ],
      "metadata": {
        "colab": {
          "base_uri": "https://localhost:8080/"
        },
        "id": "ra79yf4vlFzb",
        "outputId": "367068d6-afae-42d2-f6ff-43804aa301d8"
      },
      "execution_count": 4,
      "outputs": [
        {
          "output_type": "stream",
          "name": "stdout",
          "text": [
            "Mumbai       6925\n",
            "Kolkata      6275\n",
            "Bangalore    5521\n",
            "Chennai      4307\n",
            "Delhi        4109\n",
            "Hyderabad    1998\n",
            "Name: City, dtype: int64\n"
          ]
        }
      ]
    },
    {
      "cell_type": "markdown",
      "source": [
        "**Graph to show relation between area, price and city**"
      ],
      "metadata": {
        "id": "4_Q3pcZNVX1h"
      }
    },
    {
      "cell_type": "code",
      "source": [
        "import seaborn as sns\n",
        "\n",
        "sns.scatterplot(x=\"Area\", y=\"Price\", hue=\"City\", data=df)"
      ],
      "metadata": {
        "colab": {
          "base_uri": "https://localhost:8080/",
          "height": 482
        },
        "id": "S7N5okaplz_Y",
        "outputId": "018cb6a7-ccd8-4b25-d9fe-4e60bf0703d2"
      },
      "execution_count": 66,
      "outputs": [
        {
          "output_type": "execute_result",
          "data": {
            "text/plain": [
              "<Axes: xlabel='Area', ylabel='Price'>"
            ]
          },
          "metadata": {},
          "execution_count": 66
        },
        {
          "output_type": "display_data",
          "data": {
            "text/plain": [
              "<Figure size 640x480 with 1 Axes>"
            ],
            "image/png": "[encoded data removed]"
          },
          "metadata": {}
        }
      ]
    },
    {
      "cell_type": "code",
      "source": [
        "data=df.groupby(['City'])['Price'].mean().sort_values()\n",
        "colors = [\"red\", \"green\", \"blue\", \"yellow\", \"black\"]\n",
        "sns.barplot(data=data, palette=colors)\n",
        "\n",
        "# Add title and axis labels\n",
        "plt.title('Average Price by City')\n",
        "plt.xlabel('City')\n",
        "plt.ylabel('Average Price')\n",
        "\n",
        "# Rotate x-axis labels for better readability\n",
        "plt.xticks(rotation=45)\n",
        "\n",
        "# Show the plot\n",
        "plt.show()"
      ],
      "metadata": {
        "colab": {
          "base_uri": "https://localhost:8080/",
          "height": 681
        },
        "id": "-NIWP8WDZUks",
        "outputId": "ad0b31f7-255b-4dc0-9da7-f3850faf5875"
      },
      "execution_count": 64,
      "outputs": [
        {
          "output_type": "display_data",
          "data": {
            "text/plain": [
              "<Figure size 640x480 with 1 Axes>"
            ],
            "image/png": "[encoded data removed]"
          },
          "metadata": {}
        }
      ]
    },
    {
      "cell_type": "markdown",
      "source": [
        "**Preprocessing data**"
      ],
      "metadata": {
        "id": "JZ0_eLt4VkgB"
      }
    },
    {
      "cell_type": "code",
      "source": [
        "result = pd.concat([df[df.columns[1]],df[df.columns[3:]]],axis=1, join=\"inner\")\n",
        "result = pd.get_dummies(result, columns = ['City', 'Location'])"
      ],
      "metadata": {
        "id": "8L2GLEXL5H4V"
      },
      "execution_count": 8,
      "outputs": []
    },
    {
      "cell_type": "code",
      "source": [
        "x_train = result[:int(len(result) * 0.8)]\n",
        "x_test = result[int(len(result) * 0.8):]\n",
        "y_train = df[df.columns[2]][:int(len(result) * 0.8)]\n",
        "y_test = df[df.columns[2]][int(len(result) * 0.8):]"
      ],
      "metadata": {
        "id": "0kUiGdm99Ctl"
      },
      "execution_count": 9,
      "outputs": []
    },
    {
      "cell_type": "markdown",
      "source": [
        "**Trying a linear regression model**"
      ],
      "metadata": {
        "id": "wKtnPqyAVtS6"
      }
    },
    {
      "cell_type": "code",
      "source": [
        "from sklearn.linear_model import LinearRegression\n",
        "from sklearn.tree import DecisionTreeRegressor\n",
        "from sklearn.ensemble import RandomForestRegressor\n",
        "from sklearn.metrics import mean_squared_error, mean_absolute_error, r2_score"
      ],
      "metadata": {
        "id": "zuIBCTCtP6g-"
      },
      "execution_count": 7,
      "outputs": []
    },
    {
      "cell_type": "code",
      "source": [
        "linear = LinearRegression()\n",
        "linear.fit(x_train, y_train)"
      ],
      "metadata": {
        "id": "ViBLdVBZqL6z",
        "colab": {
          "base_uri": "https://localhost:8080/",
          "height": 74
        },
        "outputId": "3f436b7f-b9f3-40b6-e777-2326beb7a57a"
      },
      "execution_count": 10,
      "outputs": [
        {
          "output_type": "execute_result",
          "data": {
            "text/plain": [
              "LinearRegression()"
            ],
            "text/html": [
              "<style>#sk-container-id-1 {color: black;background-color: white;}#sk-container-id-1 pre{padding: 0;}#sk-container-id-1 div.sk-toggleable {background-color: white;}#sk-container-id-1 label.sk-toggleable__label {cursor: pointer;display: block;width: 100%;margin-bottom: 0;padding: 0.3em;box-sizing: border-box;text-align: center;}#sk-container-id-1 label.sk-toggleable__label-arrow:before {content: \"▸\";float: left;margin-right: 0.25em;color: #696969;}#sk-container-id-1 label.sk-toggleable__label-arrow:hover:before {color: black;}#sk-container-id-1 div.sk-estimator:hover label.sk-toggleable__label-arrow:before {color: black;}#sk-container-id-1 div.sk-toggleable__content {max-height: 0;max-width: 0;overflow: hidden;text-align: left;background-color: #f0f8ff;}#sk-container-id-1 div.sk-toggleable__content pre {margin: 0.2em;color: black;border-radius: 0.25em;background-color: #f0f8ff;}#sk-container-id-1 input.sk-toggleable__control:checked~div.sk-toggleable__content {max-height: 200px;max-width: 100%;overflow: auto;}#sk-container-id-1 input.sk-toggleable__control:checked~label.sk-toggleable__label-arrow:before {content: \"▾\";}#sk-container-id-1 div.sk-estimator input.sk-toggleable__control:checked~label.sk-toggleable__label {background-color: #d4ebff;}#sk-container-id-1 div.sk-label input.sk-toggleable__control:checked~label.sk-toggleable__label {background-color: #d4ebff;}#sk-container-id-1 input.sk-hidden--visually {border: 0;clip: rect(1px 1px 1px 1px);clip: rect(1px, 1px, 1px, 1px);height: 1px;margin: -1px;overflow: hidden;padding: 0;position: absolute;width: 1px;}#sk-container-id-1 div.sk-estimator {font-family: monospace;background-color: #f0f8ff;border: 1px dotted black;border-radius: 0.25em;box-sizing: border-box;margin-bottom: 0.5em;}#sk-container-id-1 div.sk-estimator:hover {background-color: #d4ebff;}#sk-container-id-1 div.sk-parallel-item::after {content: \"\";width: 100%;border-bottom: 1px solid gray;flex-grow: 1;}#sk-container-id-1 div.sk-label:hover label.sk-toggleable__label {background-color: #d4ebff;}#sk-container-id-1 div.sk-serial::before {content: \"\";position: absolute;border-left: 1px solid gray;box-sizing: border-box;top: 0;bottom: 0;left: 50%;z-index: 0;}#sk-container-id-1 div.sk-serial {display: flex;flex-direction: column;align-items: center;background-color: white;padding-right: 0.2em;padding-left: 0.2em;position: relative;}#sk-container-id-1 div.sk-item {position: relative;z-index: 1;}#sk-container-id-1 div.sk-parallel {display: flex;align-items: stretch;justify-content: center;background-color: white;position: relative;}#sk-container-id-1 div.sk-item::before, #sk-container-id-1 div.sk-parallel-item::before {content: \"\";position: absolute;border-left: 1px solid gray;box-sizing: border-box;top: 0;bottom: 0;left: 50%;z-index: -1;}#sk-container-id-1 div.sk-parallel-item {display: flex;flex-direction: column;z-index: 1;position: relative;background-color: white;}#sk-container-id-1 div.sk-parallel-item:first-child::after {align-self: flex-end;width: 50%;}#sk-container-id-1 div.sk-parallel-item:last-child::after {align-self: flex-start;width: 50%;}#sk-container-id-1 div.sk-parallel-item:only-child::after {width: 0;}#sk-container-id-1 div.sk-dashed-wrapped {border: 1px dashed gray;margin: 0 0.4em 0.5em 0.4em;box-sizing: border-box;padding-bottom: 0.4em;background-color: white;}#sk-container-id-1 div.sk-label label {font-family: monospace;font-weight: bold;display: inline-block;line-height: 1.2em;}#sk-container-id-1 div.sk-label-container {text-align: center;}#sk-container-id-1 div.sk-container {/* jupyter's `normalize.less` sets `[hidden] { display: none; }` but bootstrap.min.css set `[hidden] { display: none !important; }` so we also need the `!important` here to be able to override the default hidden behavior on the sphinx rendered scikit-learn.org. See: https://github.com/scikit-learn/scikit-learn/issues/21755 */display: inline-block !important;position: relative;}#sk-container-id-1 div.sk-text-repr-fallback {display: none;}</style><div id=\"sk-container-id-1\" class=\"sk-top-container\"><div class=\"sk-text-repr-fallback\"><pre>LinearRegression()</pre><b>In a Jupyter environment, please rerun this cell to show the HTML representation or trust the notebook. <br />On GitHub, the HTML representation is unable to render, please try loading this page with nbviewer.org.</b></div><div class=\"sk-container\" hidden><div class=\"sk-item\"><div class=\"sk-estimator sk-toggleable\"><input class=\"sk-toggleable__control sk-hidden--visually\" id=\"sk-estimator-id-1\" type=\"checkbox\" checked><label for=\"sk-estimator-id-1\" class=\"sk-toggleable__label sk-toggleable__label-arrow\">LinearRegression</label><div class=\"sk-toggleable__content\"><pre>LinearRegression()</pre></div></div></div></div></div>"
            ]
          },
          "metadata": {},
          "execution_count": 10
        }
      ]
    },
    {
      "cell_type": "code",
      "source": [
        "y_predict = linear.predict(x_test)"
      ],
      "metadata": {
        "id": "YKRRrFwwqlmW"
      },
      "execution_count": 11,
      "outputs": []
    },
    {
      "cell_type": "code",
      "source": [
        "r2_score(y_test, y_predict)"
      ],
      "metadata": {
        "colab": {
          "base_uri": "https://localhost:8080/"
        },
        "id": "4AEoTFzpK98s",
        "outputId": "e9d8930b-767d-4b73-c824-44937b7742cf"
      },
      "execution_count": 13,
      "outputs": [
        {
          "output_type": "execute_result",
          "data": {
            "text/plain": [
              "-306480104712220.6"
            ]
          },
          "metadata": {},
          "execution_count": 13
        }
      ]
    },
    {
      "cell_type": "markdown",
      "source": [
        "**Creating a multilayer perceptron (MLP) neural network**"
      ],
      "metadata": {
        "id": "FciVvq_0Vxqv"
      }
    },
    {
      "cell_type": "code",
      "source": [
        "model = Sequential([\n",
        "    Dense(400, activation=\"relu\"),\n",
        "    Dense(1)], name = \"price_model\")"
      ],
      "metadata": {
        "id": "iI6U6cqujpBY"
      },
      "execution_count": 14,
      "outputs": []
    },
    {
      "cell_type": "code",
      "source": [
        "model.compile(\n",
        "    loss = tf.keras.losses.MeanSquaredError(),\n",
        "    optimizer = tf.keras.optimizers.Adam(0.001),\n",
        ")"
      ],
      "metadata": {
        "id": "MxEmjTBv-Uib"
      },
      "execution_count": 15,
      "outputs": []
    },
    {
      "cell_type": "markdown",
      "source": [
        "**Training the neural network**"
      ],
      "metadata": {
        "id": "ryXH29eJWLQq"
      }
    },
    {
      "cell_type": "code",
      "source": [
        "model.fit(x_train,y_train,epochs=12)"
      ],
      "metadata": {
        "colab": {
          "base_uri": "https://localhost:8080/"
        },
        "id": "eDhcTIAhHW3l",
        "outputId": "57c0c8e8-d1c6-41be-f4c3-17b9a4ec9512"
      },
      "execution_count": 16,
      "outputs": [
        {
          "output_type": "stream",
          "name": "stdout",
          "text": [
            "Epoch 1/12\n",
            "729/729 [==============================] - 11s 12ms/step - loss: 739387948138496.0000 - accuracy: 0.0000e+00\n",
            "Epoch 2/12\n",
            "729/729 [==============================] - 8s 11ms/step - loss: 732471909941248.0000 - accuracy: 0.0000e+00\n",
            "Epoch 3/12\n",
            "729/729 [==============================] - 9s 13ms/step - loss: 719982883241984.0000 - accuracy: 0.0000e+00\n",
            "Epoch 4/12\n",
            "729/729 [==============================] - 11s 15ms/step - loss: 704584083308544.0000 - accuracy: 0.0000e+00\n",
            "Epoch 5/12\n",
            "729/729 [==============================] - 13s 18ms/step - loss: 687317576581120.0000 - accuracy: 0.0000e+00\n",
            "Epoch 6/12\n",
            "729/729 [==============================] - 8s 10ms/step - loss: 669450713956352.0000 - accuracy: 0.0000e+00\n",
            "Epoch 7/12\n",
            "729/729 [==============================] - 8s 11ms/step - loss: 651979390976000.0000 - accuracy: 0.0000e+00\n",
            "Epoch 8/12\n",
            "729/729 [==============================] - 7s 10ms/step - loss: 635195128545280.0000 - accuracy: 0.0000e+00\n",
            "Epoch 9/12\n",
            "729/729 [==============================] - 8s 11ms/step - loss: 620361720791040.0000 - accuracy: 0.0000e+00\n",
            "Epoch 10/12\n",
            "729/729 [==============================] - 7s 10ms/step - loss: 607214356135936.0000 - accuracy: 0.0000e+00\n",
            "Epoch 11/12\n",
            "729/729 [==============================] - 8s 11ms/step - loss: 596045092356096.0000 - accuracy: 0.0000e+00\n",
            "Epoch 12/12\n",
            "729/729 [==============================] - 8s 11ms/step - loss: 587155516686336.0000 - accuracy: 0.0000e+00\n"
          ]
        },
        {
          "output_type": "execute_result",
          "data": {
            "text/plain": [
              "<keras.src.callbacks.History at 0x7a7718199180>"
            ]
          },
          "metadata": {},
          "execution_count": 16
        }
      ]
    },
    {
      "cell_type": "code",
      "source": [
        "df[int(len(df)*0.8)+100:int(len(df)*0.8)+110]"
      ],
      "metadata": {
        "colab": {
          "base_uri": "https://localhost:8080/",
          "height": 363
        },
        "id": "9ikPWjDdYMrX",
        "outputId": "cb71e603-35df-4fa7-beb7-17a7427d1df1"
      },
      "execution_count": 17,
      "outputs": [
        {
          "output_type": "execute_result",
          "data": {
            "text/plain": [
              "       Unnamed: 0    City      Price  Area                 Location  \\\n",
              "23408        1447  Mumbai   23500000   410           Greater Khanda   \n",
              "23409        1448  Mumbai    7500000  1300  link road borivali west   \n",
              "23410        1449  Mumbai   15000000   495            Borivali West   \n",
              "23411        1450  Mumbai  220000000  1450                  Manpada   \n",
              "23412        1451  Mumbai    3500000  7600             Andheri West   \n",
              "23413        1452  Mumbai   12500000   550              Kalyan East   \n",
              "23414        1453  Mumbai   16800000   880               Thane West   \n",
              "23415        1454  Mumbai   17500000   922             Andheri East   \n",
              "23416        1455  Mumbai   16500000  1050             Andheri East   \n",
              "23417        1456  Mumbai   14800000  1020             Andheri East   \n",
              "\n",
              "       No. of Bedrooms  \n",
              "23408                1  \n",
              "23409                2  \n",
              "23410                1  \n",
              "23411                3  \n",
              "23412                5  \n",
              "23413                1  \n",
              "23414                2  \n",
              "23415                2  \n",
              "23416                1  \n",
              "23417                1  "
            ],
            "text/html": [
              "\n",
              "  <div id=\"df-e817608b-f01b-4dc0-8cf2-01a2123a2a87\" class=\"colab-df-container\">\n",
              "    <div>\n",
              "<style scoped>\n",
              "    .dataframe tbody tr th:only-of-type {\n",
              "        vertical-align: middle;\n",
              "    }\n",
              "\n",
              "    .dataframe tbody tr th {\n",
              "        vertical-align: top;\n",
              "    }\n",
              "\n",
              "    .dataframe thead th {\n",
              "        text-align: right;\n",
              "    }\n",
              "</style>\n",
              "<table border=\"1\" class=\"dataframe\">\n",
              "  <thead>\n",
              "    <tr style=\"text-align: right;\">\n",
              "      <th></th>\n",
              "      <th>Unnamed: 0</th>\n",
              "      <th>City</th>\n",
              "      <th>Price</th>\n",
              "      <th>Area</th>\n",
              "      <th>Location</th>\n",
              "      <th>No. of Bedrooms</th>\n",
              "    </tr>\n",
              "  </thead>\n",
              "  <tbody>\n",
              "    <tr>\n",
              "      <th>23408</th>\n",
              "      <td>1447</td>\n",
              "      <td>Mumbai</td>\n",
              "      <td>23500000</td>\n",
              "      <td>410</td>\n",
              "      <td>Greater Khanda</td>\n",
              "      <td>1</td>\n",
              "    </tr>\n",
              "    <tr>\n",
              "      <th>23409</th>\n",
              "      <td>1448</td>\n",
              "      <td>Mumbai</td>\n",
              "      <td>7500000</td>\n",
              "      <td>1300</td>\n",
              "      <td>link road borivali west</td>\n",
              "      <td>2</td>\n",
              "    </tr>\n",
              "    <tr>\n",
              "      <th>23410</th>\n",
              "      <td>1449</td>\n",
              "      <td>Mumbai</td>\n",
              "      <td>15000000</td>\n",
              "      <td>495</td>\n",
              "      <td>Borivali West</td>\n",
              "      <td>1</td>\n",
              "    </tr>\n",
              "    <tr>\n",
              "      <th>23411</th>\n",
              "      <td>1450</td>\n",
              "      <td>Mumbai</td>\n",
              "      <td>220000000</td>\n",
              "      <td>1450</td>\n",
              "      <td>Manpada</td>\n",
              "      <td>3</td>\n",
              "    </tr>\n",
              "    <tr>\n",
              "      <th>23412</th>\n",
              "      <td>1451</td>\n",
              "      <td>Mumbai</td>\n",
              "      <td>3500000</td>\n",
              "      <td>7600</td>\n",
              "      <td>Andheri West</td>\n",
              "      <td>5</td>\n",
              "    </tr>\n",
              "    <tr>\n",
              "      <th>23413</th>\n",
              "      <td>1452</td>\n",
              "      <td>Mumbai</td>\n",
              "      <td>12500000</td>\n",
              "      <td>550</td>\n",
              "      <td>Kalyan East</td>\n",
              "      <td>1</td>\n",
              "    </tr>\n",
              "    <tr>\n",
              "      <th>23414</th>\n",
              "      <td>1453</td>\n",
              "      <td>Mumbai</td>\n",
              "      <td>16800000</td>\n",
              "      <td>880</td>\n",
              "      <td>Thane West</td>\n",
              "      <td>2</td>\n",
              "    </tr>\n",
              "    <tr>\n",
              "      <th>23415</th>\n",
              "      <td>1454</td>\n",
              "      <td>Mumbai</td>\n",
              "      <td>17500000</td>\n",
              "      <td>922</td>\n",
              "      <td>Andheri East</td>\n",
              "      <td>2</td>\n",
              "    </tr>\n",
              "    <tr>\n",
              "      <th>23416</th>\n",
              "      <td>1455</td>\n",
              "      <td>Mumbai</td>\n",
              "      <td>16500000</td>\n",
              "      <td>1050</td>\n",
              "      <td>Andheri East</td>\n",
              "      <td>1</td>\n",
              "    </tr>\n",
              "    <tr>\n",
              "      <th>23417</th>\n",
              "      <td>1456</td>\n",
              "      <td>Mumbai</td>\n",
              "      <td>14800000</td>\n",
              "      <td>1020</td>\n",
              "      <td>Andheri East</td>\n",
              "      <td>1</td>\n",
              "    </tr>\n",
              "  </tbody>\n",
              "</table>\n",
              "</div>\n",
              "    <div class=\"colab-df-buttons\">\n",
              "\n",
              "  <div class=\"colab-df-container\">\n",
              "    <button class=\"colab-df-convert\" onclick=\"convertToInteractive('df-e817608b-f01b-4dc0-8cf2-01a2123a2a87')\"\n",
              "            title=\"Convert this dataframe to an interactive table.\"\n",
              "            style=\"display:none;\">\n",
              "\n",
              "  <svg xmlns=\"http://www.w3.org/2000/svg\" height=\"24px\" viewBox=\"0 -960 960 960\">\n",
              "    <path d=\"M120-120v-720h720v720H120Zm60-500h600v-160H180v160Zm220 220h160v-160H400v160Zm0 220h160v-160H400v160ZM180-400h160v-160H180v160Zm440 0h160v-160H620v160ZM180-180h160v-160H180v160Zm440 0h160v-160H620v160Z\"/>\n",
              "  </svg>\n",
              "    </button>\n",
              "\n",
              "  <style>\n",
              "    .colab-df-container {\n",
              "      display:flex;\n",
              "      gap: 12px;\n",
              "    }\n",
              "\n",
              "    .colab-df-convert {\n",
              "      background-color: #E8F0FE;\n",
              "      border: none;\n",
              "      border-radius: 50%;\n",
              "      cursor: pointer;\n",
              "      display: none;\n",
              "      fill: #1967D2;\n",
              "      height: 32px;\n",
              "      padding: 0 0 0 0;\n",
              "      width: 32px;\n",
              "    }\n",
              "\n",
              "    .colab-df-convert:hover {\n",
              "      background-color: #E2EBFA;\n",
              "      box-shadow: 0px 1px 2px rgba(60, 64, 67, 0.3), 0px 1px 3px 1px rgba(60, 64, 67, 0.15);\n",
              "      fill: #174EA6;\n",
              "    }\n",
              "\n",
              "    .colab-df-buttons div {\n",
              "      margin-bottom: 4px;\n",
              "    }\n",
              "\n",
              "    [theme=dark] .colab-df-convert {\n",
              "      background-color: #3B4455;\n",
              "      fill: #D2E3FC;\n",
              "    }\n",
              "\n",
              "    [theme=dark] .colab-df-convert:hover {\n",
              "      background-color: #434B5C;\n",
              "      box-shadow: 0px 1px 3px 1px rgba(0, 0, 0, 0.15);\n",
              "      filter: drop-shadow(0px 1px 2px rgba(0, 0, 0, 0.3));\n",
              "      fill: #FFFFFF;\n",
              "    }\n",
              "  </style>\n",
              "\n",
              "    <script>\n",
              "      const buttonEl =\n",
              "        document.querySelector('#df-e817608b-f01b-4dc0-8cf2-01a2123a2a87 button.colab-df-convert');\n",
              "      buttonEl.style.display =\n",
              "        google.colab.kernel.accessAllowed ? 'block' : 'none';\n",
              "\n",
              "      async function convertToInteractive(key) {\n",
              "        const element = document.querySelector('#df-e817608b-f01b-4dc0-8cf2-01a2123a2a87');\n",
              "        const dataTable =\n",
              "          await google.colab.kernel.invokeFunction('convertToInteractive',\n",
              "                                                    [key], {});\n",
              "        if (!dataTable) return;\n",
              "\n",
              "        const docLinkHtml = 'Like what you see? Visit the ' +\n",
              "          '<a target=\"_blank\" href=https://colab.research.google.com/notebooks/data_table.ipynb>data table notebook</a>'\n",
              "          + ' to learn more about interactive tables.';\n",
              "        element.innerHTML = '';\n",
              "        dataTable['output_type'] = 'display_data';\n",
              "        await google.colab.output.renderOutput(dataTable, element);\n",
              "        const docLink = document.createElement('div');\n",
              "        docLink.innerHTML = docLinkHtml;\n",
              "        element.appendChild(docLink);\n",
              "      }\n",
              "    </script>\n",
              "  </div>\n",
              "\n",
              "\n",
              "<div id=\"df-2b0397df-ca6d-4964-aa42-49c902953b8f\">\n",
              "  <button class=\"colab-df-quickchart\" onclick=\"quickchart('df-2b0397df-ca6d-4964-aa42-49c902953b8f')\"\n",
              "            title=\"Suggest charts\"\n",
              "            style=\"display:none;\">\n",
              "\n",
              "<svg xmlns=\"http://www.w3.org/2000/svg\" height=\"24px\"viewBox=\"0 0 24 24\"\n",
              "     width=\"24px\">\n",
              "    <g>\n",
              "        <path d=\"M19 3H5c-1.1 0-2 .9-2 2v14c0 1.1.9 2 2 2h14c1.1 0 2-.9 2-2V5c0-1.1-.9-2-2-2zM9 17H7v-7h2v7zm4 0h-2V7h2v10zm4 0h-2v-4h2v4z\"/>\n",
              "    </g>\n",
              "</svg>\n",
              "  </button>\n",
              "\n",
              "<style>\n",
              "  .colab-df-quickchart {\n",
              "      --bg-color: #E8F0FE;\n",
              "      --fill-color: #1967D2;\n",
              "      --hover-bg-color: #E2EBFA;\n",
              "      --hover-fill-color: #174EA6;\n",
              "      --disabled-fill-color: #AAA;\n",
              "      --disabled-bg-color: #DDD;\n",
              "  }\n",
              "\n",
              "  [theme=dark] .colab-df-quickchart {\n",
              "      --bg-color: #3B4455;\n",
              "      --fill-color: #D2E3FC;\n",
              "      --hover-bg-color: #434B5C;\n",
              "      --hover-fill-color: #FFFFFF;\n",
              "      --disabled-bg-color: #3B4455;\n",
              "      --disabled-fill-color: #666;\n",
              "  }\n",
              "\n",
              "  .colab-df-quickchart {\n",
              "    background-color: var(--bg-color);\n",
              "    border: none;\n",
              "    border-radius: 50%;\n",
              "    cursor: pointer;\n",
              "    display: none;\n",
              "    fill: var(--fill-color);\n",
              "    height: 32px;\n",
              "    padding: 0;\n",
              "    width: 32px;\n",
              "  }\n",
              "\n",
              "  .colab-df-quickchart:hover {\n",
              "    background-color: var(--hover-bg-color);\n",
              "    box-shadow: 0 1px 2px rgba(60, 64, 67, 0.3), 0 1px 3px 1px rgba(60, 64, 67, 0.15);\n",
              "    fill: var(--button-hover-fill-color);\n",
              "  }\n",
              "\n",
              "  .colab-df-quickchart-complete:disabled,\n",
              "  .colab-df-quickchart-complete:disabled:hover {\n",
              "    background-color: var(--disabled-bg-color);\n",
              "    fill: var(--disabled-fill-color);\n",
              "    box-shadow: none;\n",
              "  }\n",
              "\n",
              "  .colab-df-spinner {\n",
              "    border: 2px solid var(--fill-color);\n",
              "    border-color: transparent;\n",
              "    border-bottom-color: var(--fill-color);\n",
              "    animation:\n",
              "      spin 1s steps(1) infinite;\n",
              "  }\n",
              "\n",
              "  @keyframes spin {\n",
              "    0% {\n",
              "      border-color: transparent;\n",
              "      border-bottom-color: var(--fill-color);\n",
              "      border-left-color: var(--fill-color);\n",
              "    }\n",
              "    20% {\n",
              "      border-color: transparent;\n",
              "      border-left-color: var(--fill-color);\n",
              "      border-top-color: var(--fill-color);\n",
              "    }\n",
              "    30% {\n",
              "      border-color: transparent;\n",
              "      border-left-color: var(--fill-color);\n",
              "      border-top-color: var(--fill-color);\n",
              "      border-right-color: var(--fill-color);\n",
              "    }\n",
              "    40% {\n",
              "      border-color: transparent;\n",
              "      border-right-color: var(--fill-color);\n",
              "      border-top-color: var(--fill-color);\n",
              "    }\n",
              "    60% {\n",
              "      border-color: transparent;\n",
              "      border-right-color: var(--fill-color);\n",
              "    }\n",
              "    80% {\n",
              "      border-color: transparent;\n",
              "      border-right-color: var(--fill-color);\n",
              "      border-bottom-color: var(--fill-color);\n",
              "    }\n",
              "    90% {\n",
              "      border-color: transparent;\n",
              "      border-bottom-color: var(--fill-color);\n",
              "    }\n",
              "  }\n",
              "</style>\n",
              "\n",
              "  <script>\n",
              "    async function quickchart(key) {\n",
              "      const quickchartButtonEl =\n",
              "        document.querySelector('#' + key + ' button');\n",
              "      quickchartButtonEl.disabled = true;  // To prevent multiple clicks.\n",
              "      quickchartButtonEl.classList.add('colab-df-spinner');\n",
              "      try {\n",
              "        const charts = await google.colab.kernel.invokeFunction(\n",
              "            'suggestCharts', [key], {});\n",
              "      } catch (error) {\n",
              "        console.error('Error during call to suggestCharts:', error);\n",
              "      }\n",
              "      quickchartButtonEl.classList.remove('colab-df-spinner');\n",
              "      quickchartButtonEl.classList.add('colab-df-quickchart-complete');\n",
              "    }\n",
              "    (() => {\n",
              "      let quickchartButtonEl =\n",
              "        document.querySelector('#df-2b0397df-ca6d-4964-aa42-49c902953b8f button');\n",
              "      quickchartButtonEl.style.display =\n",
              "        google.colab.kernel.accessAllowed ? 'block' : 'none';\n",
              "    })();\n",
              "  </script>\n",
              "</div>\n",
              "\n",
              "    </div>\n",
              "  </div>\n"
            ]
          },
          "metadata": {},
          "execution_count": 17
        }
      ]
    },
    {
      "cell_type": "markdown",
      "source": [
        "**Evaluating the performance of the model**"
      ],
      "metadata": {
        "id": "aeAo6nOOWQhv"
      }
    },
    {
      "cell_type": "code",
      "source": [
        "prediction = model.predict(x_test)"
      ],
      "metadata": {
        "id": "j0kbdh0hSw1i"
      },
      "execution_count": null,
      "outputs": []
    },
    {
      "cell_type": "code",
      "source": [
        "print(prediction[:10])"
      ],
      "metadata": {
        "colab": {
          "base_uri": "https://localhost:8080/"
        },
        "id": "v19kdQAYS3eF",
        "outputId": "b9e01140-1236-4be8-a562-a2e8dbc8b815"
      },
      "execution_count": 19,
      "outputs": [
        {
          "output_type": "stream",
          "name": "stdout",
          "text": [
            "[[ 6427861. ]\n",
            " [ 6427500. ]\n",
            " [ 5479677.5]\n",
            " [10541091. ]\n",
            " [ 3630202.5]\n",
            " [10514937. ]\n",
            " [ 5263536. ]\n",
            " [10515735. ]\n",
            " [ 5264334. ]\n",
            " [ 5687416. ]]\n"
          ]
        }
      ]
    },
    {
      "cell_type": "code",
      "source": [
        "r2_score(y_test,prediction), mean_squared_error(y_test, prediction), mean_absolute_error(y_test, prediction)"
      ],
      "metadata": {
        "colab": {
          "base_uri": "https://localhost:8080/"
        },
        "id": "Bx5gwHtnUdLf",
        "outputId": "63f2f936-a792-4419-b65a-8b5252e328f1"
      },
      "execution_count": 70,
      "outputs": [
        {
          "output_type": "execute_result",
          "data": {
            "text/plain": [
              "(-0.22992993057659272, 457317995518516.44, 10819232.200489102)"
            ]
          },
          "metadata": {},
          "execution_count": 70
        }
      ]
    },
    {
      "cell_type": "markdown",
      "source": [
        "**Feature scaling with StandardScaler**"
      ],
      "metadata": {
        "id": "Y0li4NfhqnR9"
      }
    },
    {
      "cell_type": "code",
      "source": [
        "from sklearn.preprocessing import StandardScaler\n",
        "\n",
        "sc = StandardScaler()\n",
        "sc_result = sc.fit_transform(result)\n",
        "scx_train = sc_result[:int(len(sc_result) * 0.8)]\n",
        "scx_test = sc_result[int(len(sc_result) * 0.8):]\n",
        "scy_train = df[df.columns[2]][:int(len(sc_result) * 0.8)]\n",
        "scy_test = df[df.columns[2]][int(len(sc_result) * 0.8):]"
      ],
      "metadata": {
        "id": "5smzYm9VpBXl"
      },
      "execution_count": 68,
      "outputs": []
    },
    {
      "cell_type": "code",
      "source": [
        "sc_model = Sequential([\n",
        "    Dense(400, activation=\"relu\"),\n",
        "    Dense(1)], name = \"price_model\")\n",
        "sc_model.compile(\n",
        "    loss = tf.keras.losses.MeanSquaredError(),\n",
        "    optimizer = tf.keras.optimizers.Adam(0.001),\n",
        ")\n",
        "sc_model.fit(scx_train,scy_train,epochs=12)"
      ],
      "metadata": {
        "colab": {
          "base_uri": "https://localhost:8080/"
        },
        "id": "7syBD8yvpm5Z",
        "outputId": "9dac5582-9dca-4273-c83d-2d6a75cbb783"
      },
      "execution_count": 69,
      "outputs": [
        {
          "output_type": "stream",
          "name": "stdout",
          "text": [
            "Epoch 1/12\n",
            "729/729 [==============================] - 9s 11ms/step - loss: 740562957238272.0000\n",
            "Epoch 2/12\n",
            "729/729 [==============================] - 8s 10ms/step - loss: 740318412537856.0000\n",
            "Epoch 3/12\n",
            "729/729 [==============================] - 8s 10ms/step - loss: 739864152637440.0000\n",
            "Epoch 4/12\n",
            "729/729 [==============================] - 7s 9ms/step - loss: 739239302004736.0000\n",
            "Epoch 5/12\n",
            "729/729 [==============================] - 8s 11ms/step - loss: 738467080306688.0000\n",
            "Epoch 6/12\n",
            "729/729 [==============================] - 7s 9ms/step - loss: 737559969792000.0000\n",
            "Epoch 7/12\n",
            "729/729 [==============================] - 8s 11ms/step - loss: 736541257236480.0000\n",
            "Epoch 8/12\n",
            "729/729 [==============================] - 7s 10ms/step - loss: 735419398356992.0000\n",
            "Epoch 9/12\n",
            "729/729 [==============================] - 7s 10ms/step - loss: 734172113010688.0000\n",
            "Epoch 10/12\n",
            "729/729 [==============================] - 9s 12ms/step - loss: 732837921685504.0000\n",
            "Epoch 11/12\n",
            "729/729 [==============================] - 8s 11ms/step - loss: 731409576624128.0000\n",
            "Epoch 12/12\n",
            "729/729 [==============================] - 8s 11ms/step - loss: 729882380206080.0000\n"
          ]
        },
        {
          "output_type": "execute_result",
          "data": {
            "text/plain": [
              "<keras.src.callbacks.History at 0x7a76fd2dd870>"
            ]
          },
          "metadata": {},
          "execution_count": 69
        }
      ]
    },
    {
      "cell_type": "code",
      "source": [
        "sc_prediction = sc_model.predict(scx_test)\n",
        "print(r2_score(scy_test,sc_prediction), mean_squared_error(scy_test, sc_prediction), mean_absolute_error(scy_test, sc_prediction))"
      ],
      "metadata": {
        "colab": {
          "base_uri": "https://localhost:8080/"
        },
        "id": "HOJo4R4gq74P",
        "outputId": "7c34295c-8977-4d2c-9382-8e4a5d19272c"
      },
      "execution_count": 71,
      "outputs": [
        {
          "output_type": "stream",
          "name": "stdout",
          "text": [
            "183/183 [==============================] - 1s 7ms/step\n",
            "-0.6014202089372569 595447156563382.1 14957603.979020393\n"
          ]
        }
      ]
    }
  ]
}
